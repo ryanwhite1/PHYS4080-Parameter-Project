{
 "cells": [
  {
   "cell_type": "markdown",
   "metadata": {},
   "source": [
    "# CAMB Introduction"
   ]
  },
  {
   "cell_type": "markdown",
   "metadata": {},
   "source": [
    "#### Introduction\n",
    "In this notebook, we are going to learn a little about the code CAMB (Code for Anisotropies in the Microwave Background) originally written by Antony Lewis and Anthony Challinor. This code solves the relativistic Boltzmann equations at linear order given a cosmological model and then gives predictions for a range of cosmological observables. These include the full range of CMB anisotropies, interesting derived parameters and the low redshift matter power spectrum. Three common uses of this code are fitting CMB data (it was the main code used for interpreting data from the _Planck_ satellite), generating initial conditions for N-body simulations, and as a starting point for theoretical predictions of galaxy clustering. So it's a super useful code and one of the most widely used in cosmology!\n",
    "\n",
    "We will go over how to install the code, choose some cosmological parameters, and generate some CMB and large scale structure data. From there, it's up to you to take the data from CAMB and plot the TT, TE and EE CMB power spectra and the matter power spectra for a few different cosmological models. For your assessment of this project you will want to include these plots in your talk and give a description of the physics behind how these power spectra change when you change the cosmological parameters.\n",
    "\n",
    "#### Setting up the CAMB run\n",
    "So, now onto running CAMB. There are an enormous number of parameters in the code, but fortunately most of these can remain hidden and fixed. The parameters we might be interested in changing are:"
   ]
  },
  {
   "cell_type": "code",
   "execution_count": 1,
   "metadata": {},
   "outputs": [],
   "source": [
    " # Import numpy for some useful routines. Also import the camb module we downloaded\n",
    "import numpy as np\n",
    "import camb\n",
    "\n",
    "# Set some default cosmological parameters, close to the Planck best-fit values.\n",
    "Omega_bh2 = 0.02242     # The baryon density times the hubble constant squared\n",
    "Omega_cdmh2 = 0.11933   # The cold dark matter density times the hubble constant squared\n",
    "Omega_k   = 0.0         # The intrinsic curvature of the Universe at the present day\n",
    "H0 = 67.66              # The expansion rate of the Universe at the present day; The Hubbble Constant\n",
    "DE_EoS = -1.0                 # The equation of state of dark energy\n",
    "scalar_amplitude = 2.105e-9   # The amplitude of the fluctuations in the Universe after inflation\n",
    "scalar_index = 0.96           # The power-law index of the fluctuations in the Universe after inflation\n",
    "\n",
    "# Now use these parameters to set the cosmology of your Universe. lmax is the maximum angular\n",
    "# scale we want to generate CMB power spectra for.\n",
    "my_cosmology = camb.set_params(ombh2 = Omega_bh2, omch2 = Omega_cdmh2, omk = Omega_k, H0=H0, w=DE_EoS, \n",
    "                               As=scalar_amplitude, ns=scalar_index, lmax=2500)"
   ]
  },
  {
   "cell_type": "markdown",
   "metadata": {},
   "source": [
    "Now we have set up our cosmology, we will also need to tell CAMB what we want it to compute. For our example we want the CMB power spectra (commonly called \"Cls\"). We also want the low redshift clustering of the Universe, which we get from the matter transfer function and power spectra. We might also want to look at some of the derived parameters of our Universe, such as the relationship between redshift and distance. We do this by setting the following flags:"
   ]
  },
  {
   "cell_type": "code",
   "execution_count": 4,
   "metadata": {},
   "outputs": [],
   "source": [
    "my_cosmology.WantCls = True               # We want the CMB power spectra\n",
    "my_cosmology.WantCMB = True               # We want the temperature and polarization power spectra\n",
    "my_cosmology.WantTransfer = True          # We want the low redshift matter power spectrum\n",
    "my_cosmology.WantDerivedParameters = True # We also want to compute some derived parameters\n",
    "\n",
    "# Here we will also need to tell CAMB what redshifts we might want it to compute the matter power spectrum at\n",
    "# We don't have to do this for the Cls as the CMB is only at one redshift. Let's choose z=0.0, \n",
    "# plus 10 logarithmically spaced values between 0.0 and 10\n",
    "redshifts = np.concatenate([np.geomspace(10, 0.01, 11), [0.0]])\n",
    "my_cosmology = my_cosmology.set_matter_power(redshifts=redshifts) "
   ]
  },
  {
   "cell_type": "markdown",
   "metadata": {},
   "source": [
    "And now we run CAMB. If you want you can \"print run\". This will spit out a list of the parameters of the run, which we can make sure match the values above. You will see many other parameters which we have left as default choices."
   ]
  },
  {
   "cell_type": "code",
   "execution_count": 5,
   "metadata": {},
   "outputs": [],
   "source": [
    "first_run = camb.get_results(my_cosmology)\n",
    "# Uncomment the following line if you would like to see a list of all the parameters used in the run.\n",
    "#print(first_run)"
   ]
  },
  {
   "cell_type": "markdown",
   "metadata": {},
   "source": [
    "#### Looking at the results\n",
    "Now lets look at some of the results from our run. With the last command CAMB has computed a whole bunch of things that you will want to plot. These might include:\n",
    "* A plot of the redshift-distance relationship for your cosmology (comoving and angular diameter distances)\n",
    "* A plot of the baryon, cold dark matter, curvature and dark energy densities as a function of redshift\n",
    "* A plot of the CMB temperature-temperature power spectrum\n",
    "* Plots of the CMB TE and EE power spectra\n",
    "* A plot of the matter power spectrum at different redshifts\n",
    "* The distance measured by Baryon Acoustic Oscillations as a function of redshift.\n",
    "\n",
    "I'll give you the commands for how to retrieve this data from CAMB, but it's up to you to make the plots. The relevant commands are:"
   ]
  },
  {
   "cell_type": "code",
   "execution_count": 6,
   "metadata": {},
   "outputs": [
    {
     "name": "stdout",
     "output_type": "stream",
     "text": [
      "{'age': 13.787206703893402, 'zstar': 1089.7953338995378, 'rstar': 144.56892541154988, 'thetastar': 1.0412000196047213, 'DAstar': 13.884836985158115, 'zdrag': 1060.0020345999199, 'rdrag': 147.21563788398953, 'kd': 0.14077441478247635, 'thetad': 0.16072571144090075, 'zeq': 3387.3846726013667, 'keq': 0.010338653693197914, 'thetaeq': 0.8161540077421183, 'thetarseq': 0.45085551655918066}\n"
     ]
    }
   ],
   "source": [
    "# Generate a list of redshifts for the background quantities\n",
    "zmin, zmax, nz = 0.01, 30000.0, 2000\n",
    "redshifts = np.logspace(np.log10(zmin), np.log10(zmax), nz)\n",
    "\n",
    "# Get the comoving distance to the redshifts\n",
    "d = first_run.comoving_radial_distance(redshifts)\n",
    "\n",
    "# Get the luminosity distance to the redshifts (or just do (1+redshifts) * d)\n",
    "dL = first_run.luminosity_distance(redshifts)\n",
    "\n",
    "# Get the angular diameter distance to the redshifts (or just do d/(1+redshifts))\n",
    "dA = first_run.angular_diameter_distance(redshifts)\n",
    "\n",
    "# Get the BAO distance, defined as r_{s}/D_{V} (the ratio of the sound horizon to the \n",
    "# volume averaged distance) to the relevant redshifts\n",
    "BAOparams = first_run.get_BAO(redshifts, my_cosmology)[0:,0]\n",
    "\n",
    "# Get the densities of various components of the energy-momentum tensor. Can be\n",
    "# one of ‘K’, ‘cdm’, ‘baryon’, ‘photon’, ‘neutrino’ (massless neutrinos), ‘nu’ (massive neutrinos), ‘de’\n",
    "omega_matter     = first_run.get_Omega('baryon', redshifts)+first_run.get_Omega('cdm', redshifts)+first_run.get_Omega('nu', redshifts)\n",
    "omega_radiation  = first_run.get_Omega('photon', redshifts)+first_run.get_Omega('neutrino', redshifts)\n",
    "omega_darkenergy = first_run.get_Omega('de', redshifts)\n",
    "omega_curvature  = first_run.get_Omega('K', redshifts)\n",
    "\n",
    "# Get the CMB power spectra\n",
    "TT, EE, BB, TE = np.split(first_run.get_cmb_power_spectra(spectra=['total'], CMB_unit='muK')['total'],4,axis=1)\n",
    "\n",
    "print(first_run.get_derived_params())"
   ]
  },
  {
   "cell_type": "markdown",
   "metadata": {},
   "source": [
    "The matter power spectrum is a little different and requires some explanation. We asked CAMB to compute this at a number of redshifts above. However, we might not want the values at all these redshifts, or we might want values at redshifts inbetween those we asked for above. So what we do instead is ask CAMB to create a 2D interpolator, which we can than use to get the matter power spectrum at any redshift or scale (between the max and min we asked for originally). We'll have a look behind-the-scenes at how this 2D interpolator is created in a subsequent workshop."
   ]
  },
  {
   "cell_type": "code",
   "execution_count": 7,
   "metadata": {},
   "outputs": [],
   "source": [
    "# Generate the interpolator\n",
    "Pk_interpolator = first_run.get_matter_power_interpolator()\n",
    "\n",
    "# Now ask the interpolator for a the power spectrum at a bunch of wavelengths at redshifts 0 and 1\n",
    "kvalues = np.logspace(-4.0, 0.0, 1000)\n",
    "Pk_z0, Pk_z1 = Pk_interpolator.P(0.0, kvalues), Pk_interpolator.P(1.0, kvalues)"
   ]
  },
  {
   "cell_type": "markdown",
   "metadata": {},
   "source": [
    "#### Exploring cosmology\n",
    "Hopefully the code snippets above give you enough information to get started exploring how to use CAMB and what it calculates. Your task now is to take the two cosmological parameters you are interested in and see how that changes the different observables CAMB calculates. The easy way to do this would be to wrap everything up in a neat function that takes your cosmological parameters of interest and returns the observables. Something like this:"
   ]
  },
  {
   "cell_type": "code",
   "execution_count": 15,
   "metadata": {},
   "outputs": [],
   "source": [
    "def run_camb(Omega_bh2=0.02242, Omega_cdmh2=0.11933, Omega_k=0.0, H0=67.66, DE_EoS=-1.0, \n",
    "             scalar_amplitude = 2.105e-9, max_pk_redshift=10.0):\n",
    "    my_cosmology = camb.set_params(ombh2 = Omega_bh2, omch2 = Omega_cdmh2, omk = Omega_k, H0=H0, \n",
    "                                   w=DE_EoS, As=scalar_amplitude, WantCls=True, \n",
    "                                   WantTransfer=True, WantDerivedParameters=True, lmax=2500,\n",
    "                                   redshifts=np.concatenate([np.logspace(np.log10(max_pk_redshift), -2.0, 100),[0.0]]))\n",
    "    run = camb.get_results(my_cosmology)\n",
    "    TT, EE, BB, TE = np.split(run.get_cmb_power_spectra(spectra=['total'], CMB_unit='muK')['total'],4,axis=1)\n",
    "    Pk_interpolator = run.get_matter_power_interpolator()\n",
    "    return [my_cosmology, run, TT, EE, BB, TE, Pk_interpolator]"
   ]
  },
  {
   "cell_type": "markdown",
   "metadata": {},
   "source": [
    "You can even create an array of results for various cosmological models using the above function. For instance if we are interested in changing $\\Omega_{b}$ and $w$, we could do"
   ]
  },
  {
   "cell_type": "code",
   "execution_count": 16,
   "metadata": {},
   "outputs": [],
   "source": [
    "Omega_b_vals = np.array([0.04, 0.05])\n",
    "w_vals = np.array([-0.9, -1.1])\n",
    "results = []\n",
    "for i in range(len(Omega_b_vals)):\n",
    "    for j in range(len(w_vals)):\n",
    "        results.append(run_camb(Omega_bh2=Omega_b_vals[i]*0.6766**2, DE_EoS=w_vals[j]))"
   ]
  },
  {
   "cell_type": "markdown",
   "metadata": {},
   "source": [
    "Each element of 'results' now contains the observables for a different cosmological model. You can access the individual observables for each cosmology using the correponding elements of results, i.e., "
   ]
  },
  {
   "cell_type": "code",
   "execution_count": 17,
   "metadata": {},
   "outputs": [],
   "source": [
    "# Each element in results contains a list of [my_cosmology, run, TT, EE, BB, TE, Pk_interpolator] \n",
    "# in that order. So e.g., results[0][1] contains \"run\" for the first cosmology in the set. This can then \n",
    "# be called, just like \"first_run\" above.\n",
    "\n",
    "# For Omega_b=0.04, w=-0.9 (element 0)\n",
    "d_new = results[0][1].comoving_radial_distance(redshifts)\n",
    "BAO_new = results[0][1].get_BAO(redshifts, results[0][0])[0:,0]\n",
    "TT_new, EE_new, BB_new, TE_new = results[0][2], results[0][3], results[0][4], results[0][5]\n",
    "Pk_z0_new, Pk_z1_new = results[0][6].P(0.0, kvalues), results[0][6].P(1.0, kvalues)\n",
    "\n",
    "# For Omega_b=0.05, w=-1.1 (element 3)\n",
    "d_new = results[3][1].comoving_radial_distance(redshifts)\n",
    "BAO_new = results[3][1].get_BAO(redshifts, results[3][0])[0:,0]\n",
    "TT_new, EE_new, BB_new, TE_new = results[0][2], results[3][3], results[3][4], results[3][5]\n",
    "Pk_z0_new, Pk_z1_new = results[3][6].P(0.0, kvalues), results[3][6].P(1.0, kvalues)"
   ]
  },
  {
   "cell_type": "markdown",
   "metadata": {},
   "source": [
    "#### Working towards the assessment\n",
    "The assessment for this project is a 10 minute presentation on how the CMB and late time probes of cosmology constrain (or don't!) certain cosmological parameters. You will probably want to use this notebook to look at which observables are affected when you change the cosmological parameters you have chosen. Your job is to then try and understand the physics relating the cosmological parameters and the observables. What changes when you change the cosmology? What doesn't? Why? \n",
    "\n",
    "To work towards this, try making some plots of the observables listed above for different cosmological parameters.\n",
    "\n",
    "In later workshops, we will look at this in more detail, first fitting the TT power spectrum from Planck to see what it constrains, and secondly looking at how those constraints improve when we add additional data. Hopefully this notebook will be useful in interpreting why adding those additional datasets improves our knowledge of cosmology."
   ]
  },
  {
   "cell_type": "code",
   "execution_count": null,
   "metadata": {},
   "outputs": [],
   "source": []
  }
 ],
 "metadata": {
  "kernelspec": {
   "display_name": "Python 3 (ipykernel)",
   "language": "python",
   "name": "python3"
  },
  "language_info": {
   "codemirror_mode": {
    "name": "ipython",
    "version": 3
   },
   "file_extension": ".py",
   "mimetype": "text/x-python",
   "name": "python",
   "nbconvert_exporter": "python",
   "pygments_lexer": "ipython3",
   "version": "3.11.5"
  }
 },
 "nbformat": 4,
 "nbformat_minor": 2
}
